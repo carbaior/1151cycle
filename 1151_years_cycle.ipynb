{
 "cells": [
  {
   "cell_type": "markdown",
   "id": "0a0f4254",
   "metadata": {},
   "source": [
    "# 🔭 1151 Years Cycle\n",
    "\n",
    "This notebook automatically runs the program with a single click.\n",
    "\n",
    "### ✅ What it does:\n",
    "- Installs required dependencies\n",
    "- Clones the repository with the code\n",
    "- Runs the script `horoscycles.py`\n",
    "\n",
    "---\n",
    "\n",
    "👉 **Click on _Runtime → Run all_** or press `Ctrl+F9` to start.\n",
    "\n",
    "Date: April 16, 2025\n"
   ]
  },
  {
   "cell_type": "code",
   "execution_count": null,
   "id": "d3cf9843",
   "metadata": {},
   "outputs": [],
   "source": [
    "# 🛠 Install dependencies\n",
    "!pip install numpy skyfield"
   ]
  },
  {
   "cell_type": "code",
   "execution_count": null,
   "id": "def09f22",
   "metadata": {},
   "outputs": [],
   "source": [
    "# 🔄 Clone the repository and move into the folder\n",
    "!git clone https://github.com/carbaior/1151cycle.git\n",
    "%cd 1151cycle"
   ]
  },
  {
   "cell_type": "code",
   "execution_count": null,
   "id": "dfa2e8a5",
   "metadata": {},
   "outputs": [],
   "source": [
    "# ▶️ Run the main script\n",
    "!python horoscycles.py"
   ]
  }
 ],
 "metadata": {},
 "nbformat": 4,
 "nbformat_minor": 5
}
