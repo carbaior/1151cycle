{
 "cells": [
  {
   "cell_type": "markdown",
   "id": "ba162891",
   "metadata": {},
   "source": [
    "# 🔭 1151 Years Cycle\n",
    "\n",
    "This notebook runs the planetary cycle analysis script with a single click using Binder.\n",
    "\n",
    "---\n",
    "\n",
    "## ▶️ How to run this notebook\n",
    "\n",
    "No account or installation is required. Just follow these steps:\n",
    "\n",
    "### 🔵 Run in Binder:\n",
    "- Click this link to open in Binder:  \n",
    "  [![Launch in Binder](https://mybinder.org/badge_logo.svg)](https://mybinder.org/v2/gh/carbaior/1151cycle/HEAD?filepath=1151_years_cycle.ipynb)\n",
    "- Wait for Binder to start (it may take up to 1 minute)\n",
    "- Once the notebook loads, click `Run → Run All Cells` or run each cell manually.\n",
    "\n",
    "---\n",
    "\n",
    "📎 Everything is already included in the project (data, code). You can also edit the code and re-run it freely.\n",
    "\n",
    "Date: April 16, 2025\n"
   ]
  },
  {
   "cell_type": "code",
   "execution_count": null,
   "id": "f6a032df",
   "metadata": {},
   "outputs": [],
   "source": [
    "# 🛠 Install dependencies\n",
    "!pip install numpy skyfield"
   ]
  },
  {
   "cell_type": "code",
   "execution_count": null,
   "id": "ef343a8d",
   "metadata": {},
   "outputs": [],
   "source": [
    "# 🔄 Clone the repository and move into the folder\n",
    "!git clone https://github.com/carbaior/1151cycle.git\n",
    "%cd 1151cycle"
   ]
  },
  {
   "cell_type": "code",
   "execution_count": null,
   "id": "3ab71607",
   "metadata": {},
   "outputs": [],
   "source": [
    "# ▶️ Run the main script\n",
    "!python horoscycles.py"
   ]
  }
 ],
 "metadata": {},
 "nbformat": 4,
 "nbformat_minor": 5
}
