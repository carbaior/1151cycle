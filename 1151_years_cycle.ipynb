{
 "cells": [
  {
   "cell_type": "markdown",
   "id": "9601d1e5",
   "metadata": {},
   "source": [
    "# 🔭 Ciclos del Sistema Solar\n",
    "\n",
    "Este notebook ejecuta el programa automáticamente con un solo clic.\n",
    "\n",
    "### ✅ ¿Qué hace?\n",
    "- Instala las dependencias necesarias\n",
    "- Clona el repositorio con el código\n",
    "- Ejecuta el script `horoscycles.py`\n",
    "\n",
    "---\n",
    "\n",
    "👉 **Haz clic en _Entorno de ejecución → Ejecutar todas_** o presiona `Ctrl+F9` para comenzar.\n",
    "\n",
    "Fecha: 16/04/2025\n"
   ]
  },
  {
   "cell_type": "code",
   "execution_count": null,
   "id": "6d8f457b",
   "metadata": {},
   "outputs": [],
   "source": [
    "# 🛠 Instalar dependencias\n",
    "!pip install numpy skyfield"
   ]
  },
  {
   "cell_type": "code",
   "execution_count": null,
   "id": "d37438ae",
   "metadata": {},
   "outputs": [],
   "source": [
    "# 🔄 Clonar el repositorio y moverse a la carpeta\n",
    "!git clone https://github.com/carbaior/1151cycle.git\n",
    "%cd 1151cycle"
   ]
  },
  {
   "cell_type": "code",
   "execution_count": null,
   "id": "fcb3976b",
   "metadata": {},
   "outputs": [],
   "source": [
    "# ▶️ Ejecutar el script principal\n",
    "!python horoscycles.py"
   ]
  }
 ],
 "metadata": {},
 "nbformat": 4,
 "nbformat_minor": 5
}
